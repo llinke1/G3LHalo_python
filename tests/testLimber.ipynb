{
 "cells": [
  {
   "cell_type": "code",
   "execution_count": 1,
   "metadata": {},
   "outputs": [],
   "source": [
    "import g3lhalo\n",
    "import numpy as np\n",
    "import matplotlib.pyplot as plt\n",
    "import pyccl as ccl\n",
    "import scipy.integrate as integrate"
   ]
  },
  {
   "cell_type": "code",
   "execution_count": 2,
   "metadata": {},
   "outputs": [],
   "source": [
    "model=g3lhalo.halomodel(1e-4, 1e7, 0.001, 2, 1e10, 1e16)\n",
    "\n",
    "model.set_cosmo(0.25, 0.05, 0.7, 0.8, 0.96)\n",
    "h=0.7\n",
    "\n",
    "\n"
   ]
  },
  {
   "cell_type": "code",
   "execution_count": 3,
   "metadata": {},
   "outputs": [],
   "source": [
    "# NFW Profile\n",
    "cmfunc=ccl.halos.ConcentrationDuffy08()\n",
    "model.set_concentration_mass_relation(cmfunc)\n",
    "\n",
    "# halo profile\n",
    "hbf=ccl.halos.HaloBiasSheth01()\n",
    "model.set_halobias(hbf)\n",
    "\n",
    "\n",
    "#hmf\n",
    "\n",
    "\n",
    "hmf=ccl.halos.MassFuncSheth99()\n",
    "model.set_hmf(hmf)"
   ]
  },
  {
   "cell_type": "code",
   "execution_count": 4,
   "metadata": {},
   "outputs": [],
   "source": [
    "apstats=g3lhalo.aperturestatistics(model.cosmo, model)"
   ]
  },
  {
   "cell_type": "code",
   "execution_count": 5,
   "metadata": {},
   "outputs": [],
   "source": [
    "zs=np.linspace(0, 3)\n",
    "\n",
    "n_sources=np.exp(-(zs-1.1)**2/0.02**2)\n",
    "n_lenses=np.exp(-(zs-0.5)**2/0.02**2)\n",
    "\n",
    "apstats.set_nz_lenses(zs, n_lenses)\n",
    "apstats.set_nz_sources(zs, n_sources)"
   ]
  },
  {
   "cell_type": "code",
   "execution_count": 6,
   "metadata": {},
   "outputs": [
    {
     "name": "stdout",
     "output_type": "stream",
     "text": [
      "Calculating One_halo\n",
      "Calculating Two_halo\n",
      "Calculating One_halo\n",
      "Calculating Two_halo\n",
      "Calculating One_halo\n",
      "Calculating Two_halo\n",
      "Calculating One_halo\n",
      "Calculating Two_halo\n",
      "Calculating One_halo\n",
      "Calculating Two_halo\n",
      "Calculating One_halo\n",
      "Calculating Two_halo\n",
      "Calculating One_halo\n",
      "Calculating Two_halo\n",
      "Calculating One_halo\n",
      "Calculating Two_halo\n",
      "Calculating One_halo\n",
      "Calculating Two_halo\n",
      "Calculating One_halo\n",
      "Calculating Two_halo\n",
      "Calculating One_halo\n",
      "Calculating Two_halo\n",
      "Calculating One_halo\n",
      "Calculating Two_halo\n",
      "Calculating One_halo\n",
      "Calculating Two_halo\n",
      "Calculating One_halo\n",
      "Calculating Two_halo\n",
      "Calculating One_halo\n",
      "Calculating Two_halo\n",
      "Calculating One_halo\n",
      "Calculating Two_halo\n",
      "Calculating One_halo\n",
      "Calculating Two_halo\n",
      "Calculating One_halo\n",
      "Calculating Two_halo\n",
      "Calculating One_halo\n",
      "Calculating Two_halo\n",
      "Calculating One_halo\n",
      "Calculating Two_halo\n",
      "Calculating One_halo\n",
      "Calculating Two_halo\n",
      "Calculating One_halo\n",
      "Calculating Two_halo\n",
      "Calculating One_halo\n",
      "Calculating Two_halo\n",
      "Calculating One_halo\n",
      "Calculating Two_halo\n",
      "Calculating One_halo\n",
      "Calculating Two_halo\n",
      "Calculating One_halo\n",
      "Calculating Two_halo\n",
      "Calculating One_halo\n",
      "Calculating Two_halo\n",
      "Calculating One_halo\n",
      "Calculating Two_halo\n",
      "Calculating One_halo\n",
      "Calculating Two_halo\n",
      "Calculating One_halo\n",
      "Calculating Two_halo\n",
      "Calculating One_halo\n",
      "Calculating Two_halo\n",
      "Calculating One_halo\n",
      "Calculating Two_halo\n",
      "Calculating One_halo\n",
      "Calculating Two_halo\n",
      "Calculating One_halo\n",
      "Calculating Two_halo\n",
      "Calculating One_halo\n",
      "Calculating Two_halo\n",
      "Calculating One_halo\n",
      "Calculating Two_halo\n",
      "Calculating One_halo\n",
      "Calculating Two_halo\n",
      "Calculating One_halo\n",
      "Calculating Two_halo\n",
      "Calculating One_halo\n",
      "Calculating Two_halo\n",
      "Calculating One_halo\n",
      "Calculating Two_halo\n",
      "Calculating One_halo\n",
      "Calculating Two_halo\n",
      "Calculating One_halo\n",
      "Calculating Two_halo\n",
      "Calculating One_halo\n",
      "Calculating Two_halo\n",
      "Calculating One_halo\n",
      "Calculating Two_halo\n",
      "Calculating One_halo\n",
      "Calculating Two_halo\n",
      "Calculating One_halo\n",
      "Calculating Two_halo\n",
      "Calculating One_halo\n",
      "Calculating Two_halo\n",
      "Calculating One_halo\n",
      "Calculating Two_halo\n",
      "Calculating One_halo\n",
      "Calculating Two_halo\n"
     ]
    }
   ],
   "source": [
    "ells=np.geomspace(2, 1000)\n",
    "Cell=apstats.C_kk(ells)"
   ]
  },
  {
   "cell_type": "code",
   "execution_count": 7,
   "metadata": {},
   "outputs": [
    {
     "data": {
      "text/plain": [
       "[<matplotlib.lines.Line2D at 0x7f86a55369f0>]"
      ]
     },
     "execution_count": 7,
     "metadata": {},
     "output_type": "execute_result"
    },
    {
     "data": {
      "image/png": "[encoded data removed]",
      "text/plain": [
       "<Figure size 640x480 with 1 Axes>"
      ]
     },
     "metadata": {},
     "output_type": "display_data"
    }
   ],
   "source": [
    "plt.loglog(ells, Cell)"
   ]
  },
  {
   "cell_type": "code",
   "execution_count": null,
   "metadata": {},
   "outputs": [],
   "source": []
  }
 ],
 "metadata": {
  "kernelspec": {
   "display_name": "halomodel",
   "language": "python",
   "name": "python3"
  },
  "language_info": {
   "codemirror_mode": {
    "name": "ipython",
    "version": 3
   },
   "file_extension": ".py",
   "mimetype": "text/x-python",
   "name": "python",
   "nbconvert_exporter": "python",
   "pygments_lexer": "ipython3",
   "version": "3.12.1"
  }
 },
 "nbformat": 4,
 "nbformat_minor": 2
}
