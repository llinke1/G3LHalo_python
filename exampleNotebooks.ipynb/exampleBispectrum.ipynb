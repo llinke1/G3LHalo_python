{
 "cells": [
  {
   "cell_type": "code",
   "execution_count": 1,
   "metadata": {},
   "outputs": [],
   "source": [
    "import g3lhalo\n",
    "import pyccl as ccl\n",
    "import matplotlib.pyplot as plt\n",
    "import numpy as np"
   ]
  },
  {
   "cell_type": "markdown",
   "metadata": {},
   "source": [
    "# Example for (3D) Bispectra\n",
    "We show here how to compute matter-matter-galaxy, and matter-galaxy-galaxy bispectra with the halo model"
   ]
  },
  {
   "cell_type": "markdown",
   "metadata": {},
   "source": [
    "## Defining the model\n",
    "See `exampleHalomodelIngredients.ipynb` for details"
   ]
  },
  {
   "cell_type": "code",
   "execution_count": 2,
   "metadata": {},
   "outputs": [
    {
     "name": "stdout",
     "output_type": "stream",
     "text": [
      "Setting cosmology\n",
      "Om_c: 0.28\n",
      "Om_b: 0.05\n",
      "h: 0.67\n",
      "sigma_8: 0.8\n",
      "n_s: 0.96\n",
      "Also setting linear matter power spectrum\n",
      "Setting halo mass function\n",
      "<pyccl.halos.hmfunc.sheth99.MassFuncSheth99>\n",
      "\tmass_def = MassDef(Delta=fof, rho_type=matter)\n",
      "Setting halo bias function\n",
      "<pyccl.halos.hbias.sheth01.HaloBiasSheth01>\n",
      "\tmass_def = MassDef(Delta=fof, rho_type=matter)\n",
      "Setting concentration mass relation\n",
      "<pyccl.halos.concentration.duffy08.ConcentrationDuffy08>\n",
      "\tmass_def = MassDef(Delta=200, rho_type=critical)\n",
      "\tmass_def_strict = True\n"
     ]
    }
   ],
   "source": [
    "# Cosmology\n",
    "cosmo = {\n",
    "    'Om_c': 0.28,\n",
    "    'Om_b': 0.05,\n",
    "    'h': 0.67,\n",
    "    'sigma_8': 0.8,\n",
    "    'n_s': 0.96\n",
    "}\n",
    "\n",
    "# Halo mass function\n",
    "hmf=ccl.halos.MassFuncSheth99()\n",
    "\n",
    "# Halo bias\n",
    "hbf=ccl.halos.HaloBiasSheth01()\n",
    "\n",
    "# Concentration mass Relation\n",
    "cmfunc=ccl.halos.ConcentrationDuffy08()\n",
    "\n",
    "\n",
    "# HOD\n",
    "# HOD parameters\n",
    "alpha=1\n",
    "sigma=0.2\n",
    "Mth=1e12\n",
    "Mprime=20*Mth\n",
    "beta=1\n",
    "\n",
    "# Correlation between galaxy populations\n",
    "A=0 # 0 ==> No correlation between populations\n",
    "epsilon=0\n",
    "\n",
    "# Scaling of halo profile concentration\n",
    "flens=1 # 1 ==> Same as dark matter\n",
    "\n",
    "# Get HOD\n",
    "hod_cen, hod_sat = g3lhalo.HOD_Zheng(alpha, Mth, sigma, Mprime, beta)\n",
    "\n",
    "# Define model\n",
    "model = g3lhalo.halomodel(verbose=True, cosmo=cosmo, hmfunc=hmf, hbfunc=hbf, cmfunc=cmfunc)\n",
    "model.set_hods(hod_cen, hod_sat, A=A, epsilon=epsilon, flens1=flens, flens2=flens)"
   ]
  },
  {
   "cell_type": "markdown",
   "metadata": {},
   "source": [
    "## Calculate Power spectrum\n",
    "We first calculate the matter-matter, matter-galaxy, and galaxy-galaxy power spectra. This is not strictly necessary for getting the bispectra. But, later we want to plot the reduced bispectra, so this becomes necessary. The non-linear power spectra always give the 1- and 2-halo term seperate, as well as their sum. The parameters `type1` and `type2` specify which lenses (population 1 or 2) shall be correlated."
   ]
  },
  {
   "cell_type": "code",
   "execution_count": 3,
   "metadata": {},
   "outputs": [
    {
     "name": "stderr",
     "output_type": "stream",
     "text": [
      "/home/laila/CodeRepos/G3LHalo_python/g3lhalo/halomodel.py:252: IntegrationWarning: The maximum number of subdivisions (50) has been achieved.\n",
      "  If increasing the limit yields no improvement it is advised to analyze \n",
      "  the integrand in order to determine the difficulties.  If the position of a \n",
      "  local difficulty can be determined (singularity, discontinuity) one will \n",
      "  probably gain from splitting up the interval and calling the integrator \n",
      "  on the subranges.  Perhaps a special-purpose integrator should be used.\n",
      "  integral.append(integrate.quad(kernel, mmin, mmax)[0])\n",
      "/home/laila/CodeRepos/G3LHalo_python/g3lhalo/halomodel.py:269: IntegrationWarning: The integral is probably divergent, or slowly convergent.\n",
      "  integral2.append(integrate.quad(kernel, mmin, mmax)[0])\n"
     ]
    }
   ],
   "source": [
    "ks = np.geomspace(1e-3, 1e2)\n",
    "z=0\n",
    "\n",
    "# Linear matter power spectrum\n",
    "Pk_lin = model.pk_lin(ks, z)\n",
    "\n",
    "# Matter-Matter power spectrum\n",
    "#Pk_ss_1h, Pk_ss_2h, Pk_ss = model.source_source_ps(ks, z)\n",
    "\n",
    "\n",
    "# Matter-Galaxy power spectrum\n",
    "Pk_sl_1h, Pk_sl_2h, Pk_sl = model.source_lens_ps(ks, z, type=1)\n",
    "\n",
    "\n",
    "# Galaxy-Galaxy power spectrum\n",
    "Pk_ll_1h, Pk_ll_2h, Pk_ll = model.lens_lens_ps(ks, z, type1=1, type2=1)"
   ]
  },
  {
   "cell_type": "markdown",
   "metadata": {},
   "source": [
    "# Matter-Galaxy-Galaxy bispectrum\n",
    "Now we calculate the matter-galaxy-galaxy bispectrum"
   ]
  },
  {
   "cell_type": "code",
   "execution_count": 4,
   "metadata": {},
   "outputs": [
    {
     "name": "stderr",
     "output_type": "stream",
     "text": [
      "/home/laila/CodeRepos/G3LHalo_python/g3lhalo/halomodel.py:291: IntegrationWarning: The maximum number of subdivisions (50) has been achieved.\n",
      "  If increasing the limit yields no improvement it is advised to analyze \n",
      "  the integrand in order to determine the difficulties.  If the position of a \n",
      "  local difficulty can be determined (singularity, discontinuity) one will \n",
      "  probably gain from splitting up the interval and calling the integrator \n",
      "  on the subranges.  Perhaps a special-purpose integrator should be used.\n",
      "  integral = integrate.quad(kernel, mmin, mmax)[0]\n",
      "/home/laila/CodeRepos/G3LHalo_python/g3lhalo/halomodel.py:300: IntegrationWarning: The maximum number of subdivisions (50) has been achieved.\n",
      "  If increasing the limit yields no improvement it is advised to analyze \n",
      "  the integrand in order to determine the difficulties.  If the position of a \n",
      "  local difficulty can be determined (singularity, discontinuity) one will \n",
      "  probably gain from splitting up the interval and calling the integrator \n",
      "  on the subranges.  Perhaps a special-purpose integrator should be used.\n",
      "  summand1 = integrate.quad(kernel, mmin, mmax)[0]\n",
      "/home/laila/CodeRepos/G3LHalo_python/g3lhalo/halomodel.py:321: IntegrationWarning: The maximum number of subdivisions (50) has been achieved.\n",
      "  If increasing the limit yields no improvement it is advised to analyze \n",
      "  the integrand in order to determine the difficulties.  If the position of a \n",
      "  local difficulty can be determined (singularity, discontinuity) one will \n",
      "  probably gain from splitting up the interval and calling the integrator \n",
      "  on the subranges.  Perhaps a special-purpose integrator should be used.\n",
      "  summand2 *= integrate.quad(kernel, mmin, mmax)[0]\n",
      "/home/laila/CodeRepos/G3LHalo_python/g3lhalo/halomodel.py:335: IntegrationWarning: The maximum number of subdivisions (50) has been achieved.\n",
      "  If increasing the limit yields no improvement it is advised to analyze \n",
      "  the integrand in order to determine the difficulties.  If the position of a \n",
      "  local difficulty can be determined (singularity, discontinuity) one will \n",
      "  probably gain from splitting up the interval and calling the integrator \n",
      "  on the subranges.  Perhaps a special-purpose integrator should be used.\n",
      "  summand3 *= integrate.quad(kernel, mmin, mmax)[0]\n",
      "/home/laila/CodeRepos/G3LHalo_python/g3lhalo/halomodel.py:291: IntegrationWarning: The integral is probably divergent, or slowly convergent.\n",
      "  integral = integrate.quad(kernel, mmin, mmax)[0]\n",
      "/home/laila/CodeRepos/G3LHalo_python/g3lhalo/halomodel.py:300: IntegrationWarning: The integral is probably divergent, or slowly convergent.\n",
      "  summand1 = integrate.quad(kernel, mmin, mmax)[0]\n",
      "/home/laila/CodeRepos/G3LHalo_python/g3lhalo/halomodel.py:350: IntegrationWarning: The integral is probably divergent, or slowly convergent.\n",
      "  integral *= integrate.quad(kernel, mmin, mmax)[0]\n",
      "/home/laila/CodeRepos/G3LHalo_python/g3lhalo/halomodel.py:321: IntegrationWarning: The integral is probably divergent, or slowly convergent.\n",
      "  summand2 *= integrate.quad(kernel, mmin, mmax)[0]\n",
      "/home/laila/CodeRepos/G3LHalo_python/g3lhalo/halomodel.py:335: IntegrationWarning: The integral is probably divergent, or slowly convergent.\n",
      "  summand3 *= integrate.quad(kernel, mmin, mmax)[0]\n"
     ]
    }
   ],
   "source": [
    "# Matter-Galaxy-Galaxy\n",
    "\n",
    "B1h_sll=[]\n",
    "B2h_sll=[]\n",
    "B3h_sll=[]\n",
    "B_sll=[]\n",
    "\n",
    "for k in ks:\n",
    "    B1h, B2h, B3h, B = model.source_lens_lens_bs(k, k, k, z,  type1=1, type2=1)\n",
    "    B1h_sll.append(B1h)\n",
    "    B2h_sll.append(B2h)\n",
    "    B3h_sll.append(B3h)\n",
    "    B_sll.append(B)\n",
    "\n",
    "B1h_sll=np.array(B1h_sll)\n",
    "B2h_sll=np.array(B2h_sll)\n",
    "B3h_sll=np.array(B3h_sll)\n",
    "B_sll=np.array(B_sll)\n"
   ]
  },
  {
   "cell_type": "code",
   "execution_count": 6,
   "metadata": {},
   "outputs": [],
   "source": [
    "# Get Reduced bispectrum\n",
    "\n",
    "Q1h_sll=B1h_sll/(Pk_sl**2+2*Pk_ll*Pk_sl)\n",
    "Q2h_sll=B2h_sll/(Pk_sl**2+2*Pk_ll*Pk_sl)\n",
    "Q3h_sll=B3h_sll/(Pk_sl**2+2*Pk_ll*Pk_sl)\n",
    "Q_sll=B_sll/(Pk_sl**2+2*Pk_ll*Pk_sl)"
   ]
  },
  {
   "cell_type": "code",
   "execution_count": 11,
   "metadata": {},
   "outputs": [
    {
     "data": {
      "text/plain": [
       "Text(0, 0.5, '$Q(k,k,k)$')"
      ]
     },
     "execution_count": 11,
     "metadata": {},
     "output_type": "execute_result"
    },
    {
     "data": {
      "image/png": "[encoded data removed]",
      "text/plain": [
       "<Figure size 640x480 with 1 Axes>"
      ]
     },
     "metadata": {},
     "output_type": "display_data"
    }
   ],
   "source": [
    "# Plot\n",
    "\n",
    "plt.loglog(ks, Q1h_sll, label='1-halo', ls='--')\n",
    "plt.loglog(ks, Q2h_sll, label='2-halo', ls=':')\n",
    "plt.loglog(ks, Q3h_sll, label='3-halo', ls='-.')\n",
    "plt.loglog(ks, Q_sll, label='total')\n",
    "plt.legend()\n",
    "\n",
    "plt.xlabel(r'$k$ [Mpc$^{-1}$]')\n",
    "plt.ylabel(r'Matter-Galaxy-Galaxy $Q(k,k,k)$')\n"
   ]
  },
  {
   "cell_type": "markdown",
   "metadata": {},
   "source": [
    "# Matter-Matter-Galaxy bispectrum\n",
    "Now we calculate the matter-matter-galaxy bispectrum"
   ]
  },
  {
   "cell_type": "code",
   "execution_count": 12,
   "metadata": {},
   "outputs": [
    {
     "ename": "TypeError",
     "evalue": "halomodel.u_NFW() missing 1 required positional argument: 'z'",
     "output_type": "error",
     "traceback": [
      "\u001b[0;31m---------------------------------------------------------------------------\u001b[0m",
      "\u001b[0;31mTypeError\u001b[0m                                 Traceback (most recent call last)",
      "Cell \u001b[0;32mIn[12], line 9\u001b[0m\n\u001b[1;32m      6\u001b[0m B_ssl\u001b[38;5;241m=\u001b[39m[]\n\u001b[1;32m      8\u001b[0m \u001b[38;5;28;01mfor\u001b[39;00m k \u001b[38;5;129;01min\u001b[39;00m ks:\n\u001b[0;32m----> 9\u001b[0m     B1h, B2h, B3h, B \u001b[38;5;241m=\u001b[39m \u001b[43mmodel\u001b[49m\u001b[38;5;241;43m.\u001b[39;49m\u001b[43msource_source_lens_bs\u001b[49m\u001b[43m(\u001b[49m\u001b[43mk\u001b[49m\u001b[43m,\u001b[49m\u001b[43m \u001b[49m\u001b[43mk\u001b[49m\u001b[43m,\u001b[49m\u001b[43m \u001b[49m\u001b[43mk\u001b[49m\u001b[43m,\u001b[49m\u001b[43m \u001b[49m\u001b[43mz\u001b[49m\u001b[43m,\u001b[49m\u001b[43m  \u001b[49m\u001b[38;5;28;43mtype\u001b[39;49m\u001b[38;5;241;43m=\u001b[39;49m\u001b[38;5;241;43m1\u001b[39;49m\u001b[43m)\u001b[49m\n\u001b[1;32m     10\u001b[0m     B1h_ssl\u001b[38;5;241m.\u001b[39mappend(B1h)\n\u001b[1;32m     11\u001b[0m     B2h_ssl\u001b[38;5;241m.\u001b[39mappend(B2h)\n",
      "File \u001b[0;32m~/CodeRepos/G3LHalo_python/g3lhalo/halomodel.py:461\u001b[0m, in \u001b[0;36mhalomodel.source_source_lens_bs\u001b[0;34m(self, k1, k2, k3, z, type)\u001b[0m\n\u001b[1;32m    454\u001b[0m rho_bar \u001b[38;5;241m=\u001b[39m ccl\u001b[38;5;241m.\u001b[39mrho_x(\u001b[38;5;28mself\u001b[39m\u001b[38;5;241m.\u001b[39mcosmo, \u001b[38;5;241m1\u001b[39m \u001b[38;5;241m/\u001b[39m (\u001b[38;5;241m1\u001b[39m \u001b[38;5;241m+\u001b[39m z), \u001b[38;5;124m\"\u001b[39m\u001b[38;5;124mmatter\u001b[39m\u001b[38;5;124m\"\u001b[39m)\n\u001b[1;32m    456\u001b[0m One_halo \u001b[38;5;241m=\u001b[39m (\n\u001b[1;32m    457\u001b[0m     \u001b[38;5;28mself\u001b[39m\u001b[38;5;241m.\u001b[39msource_source_lens_bs_1h(k1, k2, k3, z, \u001b[38;5;28mtype\u001b[39m) \u001b[38;5;241m/\u001b[39m n \u001b[38;5;241m/\u001b[39m rho_bar \u001b[38;5;241m/\u001b[39m rho_bar\n\u001b[1;32m    458\u001b[0m )\n\u001b[1;32m    460\u001b[0m Two_halo \u001b[38;5;241m=\u001b[39m (\n\u001b[0;32m--> 461\u001b[0m     \u001b[38;5;28;43mself\u001b[39;49m\u001b[38;5;241;43m.\u001b[39;49m\u001b[43msource_source_lens_bs_2h\u001b[49m\u001b[43m(\u001b[49m\u001b[43mk1\u001b[49m\u001b[43m,\u001b[49m\u001b[43m \u001b[49m\u001b[43mk2\u001b[49m\u001b[43m,\u001b[49m\u001b[43m \u001b[49m\u001b[43mk3\u001b[49m\u001b[43m,\u001b[49m\u001b[43m \u001b[49m\u001b[43mz\u001b[49m\u001b[43m,\u001b[49m\u001b[43m \u001b[49m\u001b[38;5;28;43mtype\u001b[39;49m\u001b[43m)\u001b[49m \u001b[38;5;241m/\u001b[39m n \u001b[38;5;241m/\u001b[39m rho_bar \u001b[38;5;241m/\u001b[39m rho_bar\n\u001b[1;32m    462\u001b[0m )\n\u001b[1;32m    464\u001b[0m Three_halo \u001b[38;5;241m=\u001b[39m (\n\u001b[1;32m    465\u001b[0m     \u001b[38;5;28mself\u001b[39m\u001b[38;5;241m.\u001b[39msource_source_lens_bs_3h(k1, k2, k3, z, \u001b[38;5;28mtype\u001b[39m) \u001b[38;5;241m/\u001b[39m n \u001b[38;5;241m/\u001b[39m rho_bar \u001b[38;5;241m/\u001b[39m rho_bar\n\u001b[1;32m    466\u001b[0m )\n\u001b[1;32m    468\u001b[0m \u001b[38;5;28;01mreturn\u001b[39;00m One_halo, Two_halo, Three_halo, One_halo \u001b[38;5;241m+\u001b[39m Two_halo \u001b[38;5;241m+\u001b[39m Three_halo\n",
      "File \u001b[0;32m~/CodeRepos/G3LHalo_python/g3lhalo/halomodel.py:410\u001b[0m, in \u001b[0;36mhalomodel.source_source_lens_bs_2h\u001b[0;34m(self, k1, k2, k3, z, type, mmin, mmax)\u001b[0m\n\u001b[1;32m    407\u001b[0m summand1 \u001b[38;5;241m*\u001b[39m\u001b[38;5;241m=\u001b[39m \u001b[38;5;28mself\u001b[39m\u001b[38;5;241m.\u001b[39mpk_lin(k3, z)\n\u001b[1;32m    409\u001b[0m kernel \u001b[38;5;241m=\u001b[39m \u001b[38;5;28;01mlambda\u001b[39;00m m: \u001b[38;5;28mself\u001b[39m\u001b[38;5;241m.\u001b[39mdndm(m, z) \u001b[38;5;241m*\u001b[39m m \u001b[38;5;241m*\u001b[39m \u001b[38;5;28mself\u001b[39m\u001b[38;5;241m.\u001b[39mu_NFW(k1, m) \u001b[38;5;241m*\u001b[39m \u001b[38;5;28mself\u001b[39m\u001b[38;5;241m.\u001b[39mbh(m, z)\n\u001b[0;32m--> 410\u001b[0m summand2 \u001b[38;5;241m=\u001b[39m \u001b[43mintegrate\u001b[49m\u001b[38;5;241;43m.\u001b[39;49m\u001b[43mquad\u001b[49m\u001b[43m(\u001b[49m\u001b[43mkernel\u001b[49m\u001b[43m,\u001b[49m\u001b[43m \u001b[49m\u001b[43mmmin\u001b[49m\u001b[43m,\u001b[49m\u001b[43m \u001b[49m\u001b[43mmmax\u001b[49m\u001b[43m)\u001b[49m[\u001b[38;5;241m0\u001b[39m]\n\u001b[1;32m    412\u001b[0m kernel \u001b[38;5;241m=\u001b[39m (\n\u001b[1;32m    413\u001b[0m     \u001b[38;5;28;01mlambda\u001b[39;00m m: \u001b[38;5;28mself\u001b[39m\u001b[38;5;241m.\u001b[39mdndm(m, z)\n\u001b[1;32m    414\u001b[0m     \u001b[38;5;241m*\u001b[39m m\n\u001b[0;32m   (...)\u001b[0m\n\u001b[1;32m    417\u001b[0m     \u001b[38;5;241m*\u001b[39m \u001b[38;5;28mself\u001b[39m\u001b[38;5;241m.\u001b[39mbh(m, z)\n\u001b[1;32m    418\u001b[0m )\n\u001b[1;32m    419\u001b[0m summand2 \u001b[38;5;241m*\u001b[39m\u001b[38;5;241m=\u001b[39m integrate\u001b[38;5;241m.\u001b[39mquad(kernel, mmin, mmax)[\u001b[38;5;241m0\u001b[39m]\n",
      "File \u001b[0;32m~/miniconda3/envs/g3l/lib/python3.12/site-packages/scipy/integrate/_quadpack_py.py:464\u001b[0m, in \u001b[0;36mquad\u001b[0;34m(func, a, b, args, full_output, epsabs, epsrel, limit, points, weight, wvar, wopts, maxp1, limlst, complex_func)\u001b[0m\n\u001b[1;32m    461\u001b[0m     \u001b[38;5;28;01mreturn\u001b[39;00m retval\n\u001b[1;32m    463\u001b[0m \u001b[38;5;28;01mif\u001b[39;00m weight \u001b[38;5;129;01mis\u001b[39;00m \u001b[38;5;28;01mNone\u001b[39;00m:\n\u001b[0;32m--> 464\u001b[0m     retval \u001b[38;5;241m=\u001b[39m \u001b[43m_quad\u001b[49m\u001b[43m(\u001b[49m\u001b[43mfunc\u001b[49m\u001b[43m,\u001b[49m\u001b[43m \u001b[49m\u001b[43ma\u001b[49m\u001b[43m,\u001b[49m\u001b[43m \u001b[49m\u001b[43mb\u001b[49m\u001b[43m,\u001b[49m\u001b[43m \u001b[49m\u001b[43margs\u001b[49m\u001b[43m,\u001b[49m\u001b[43m \u001b[49m\u001b[43mfull_output\u001b[49m\u001b[43m,\u001b[49m\u001b[43m \u001b[49m\u001b[43mepsabs\u001b[49m\u001b[43m,\u001b[49m\u001b[43m \u001b[49m\u001b[43mepsrel\u001b[49m\u001b[43m,\u001b[49m\u001b[43m \u001b[49m\u001b[43mlimit\u001b[49m\u001b[43m,\u001b[49m\n\u001b[1;32m    465\u001b[0m \u001b[43m                   \u001b[49m\u001b[43mpoints\u001b[49m\u001b[43m)\u001b[49m\n\u001b[1;32m    466\u001b[0m \u001b[38;5;28;01melse\u001b[39;00m:\n\u001b[1;32m    467\u001b[0m     \u001b[38;5;28;01mif\u001b[39;00m points \u001b[38;5;129;01mis\u001b[39;00m \u001b[38;5;129;01mnot\u001b[39;00m \u001b[38;5;28;01mNone\u001b[39;00m:\n",
      "File \u001b[0;32m~/miniconda3/envs/g3l/lib/python3.12/site-packages/scipy/integrate/_quadpack_py.py:611\u001b[0m, in \u001b[0;36m_quad\u001b[0;34m(func, a, b, args, full_output, epsabs, epsrel, limit, points)\u001b[0m\n\u001b[1;32m    609\u001b[0m \u001b[38;5;28;01mif\u001b[39;00m points \u001b[38;5;129;01mis\u001b[39;00m \u001b[38;5;28;01mNone\u001b[39;00m:\n\u001b[1;32m    610\u001b[0m     \u001b[38;5;28;01mif\u001b[39;00m infbounds \u001b[38;5;241m==\u001b[39m \u001b[38;5;241m0\u001b[39m:\n\u001b[0;32m--> 611\u001b[0m         \u001b[38;5;28;01mreturn\u001b[39;00m \u001b[43m_quadpack\u001b[49m\u001b[38;5;241;43m.\u001b[39;49m\u001b[43m_qagse\u001b[49m\u001b[43m(\u001b[49m\u001b[43mfunc\u001b[49m\u001b[43m,\u001b[49m\u001b[43ma\u001b[49m\u001b[43m,\u001b[49m\u001b[43mb\u001b[49m\u001b[43m,\u001b[49m\u001b[43margs\u001b[49m\u001b[43m,\u001b[49m\u001b[43mfull_output\u001b[49m\u001b[43m,\u001b[49m\u001b[43mepsabs\u001b[49m\u001b[43m,\u001b[49m\u001b[43mepsrel\u001b[49m\u001b[43m,\u001b[49m\u001b[43mlimit\u001b[49m\u001b[43m)\u001b[49m\n\u001b[1;32m    612\u001b[0m     \u001b[38;5;28;01melse\u001b[39;00m:\n\u001b[1;32m    613\u001b[0m         \u001b[38;5;28;01mreturn\u001b[39;00m _quadpack\u001b[38;5;241m.\u001b[39m_qagie(func, bound, infbounds, args, full_output, \n\u001b[1;32m    614\u001b[0m                                 epsabs, epsrel, limit)\n",
      "File \u001b[0;32m~/CodeRepos/G3LHalo_python/g3lhalo/halomodel.py:409\u001b[0m, in \u001b[0;36mhalomodel.source_source_lens_bs_2h.<locals>.<lambda>\u001b[0;34m(m)\u001b[0m\n\u001b[1;32m    405\u001b[0m summand1 \u001b[38;5;241m*\u001b[39m\u001b[38;5;241m=\u001b[39m integrate\u001b[38;5;241m.\u001b[39mquad(kernel, mmin, mmax)[\u001b[38;5;241m0\u001b[39m]\n\u001b[1;32m    407\u001b[0m summand1 \u001b[38;5;241m*\u001b[39m\u001b[38;5;241m=\u001b[39m \u001b[38;5;28mself\u001b[39m\u001b[38;5;241m.\u001b[39mpk_lin(k3, z)\n\u001b[0;32m--> 409\u001b[0m kernel \u001b[38;5;241m=\u001b[39m \u001b[38;5;28;01mlambda\u001b[39;00m m: \u001b[38;5;28mself\u001b[39m\u001b[38;5;241m.\u001b[39mdndm(m, z) \u001b[38;5;241m*\u001b[39m m \u001b[38;5;241m*\u001b[39m \u001b[38;5;28;43mself\u001b[39;49m\u001b[38;5;241;43m.\u001b[39;49m\u001b[43mu_NFW\u001b[49m\u001b[43m(\u001b[49m\u001b[43mk1\u001b[49m\u001b[43m,\u001b[49m\u001b[43m \u001b[49m\u001b[43mm\u001b[49m\u001b[43m)\u001b[49m \u001b[38;5;241m*\u001b[39m \u001b[38;5;28mself\u001b[39m\u001b[38;5;241m.\u001b[39mbh(m, z)\n\u001b[1;32m    410\u001b[0m summand2 \u001b[38;5;241m=\u001b[39m integrate\u001b[38;5;241m.\u001b[39mquad(kernel, mmin, mmax)[\u001b[38;5;241m0\u001b[39m]\n\u001b[1;32m    412\u001b[0m kernel \u001b[38;5;241m=\u001b[39m (\n\u001b[1;32m    413\u001b[0m     \u001b[38;5;28;01mlambda\u001b[39;00m m: \u001b[38;5;28mself\u001b[39m\u001b[38;5;241m.\u001b[39mdndm(m, z)\n\u001b[1;32m    414\u001b[0m     \u001b[38;5;241m*\u001b[39m m\n\u001b[0;32m   (...)\u001b[0m\n\u001b[1;32m    417\u001b[0m     \u001b[38;5;241m*\u001b[39m \u001b[38;5;28mself\u001b[39m\u001b[38;5;241m.\u001b[39mbh(m, z)\n\u001b[1;32m    418\u001b[0m )\n",
      "\u001b[0;31mTypeError\u001b[0m: halomodel.u_NFW() missing 1 required positional argument: 'z'"
     ]
    }
   ],
   "source": [
    "# Matter-Matter-Galaxy\n",
    "\n",
    "B1h_ssl=[]\n",
    "B2h_ssl=[]\n",
    "B3h_ssl=[]\n",
    "B_ssl=[]\n",
    "\n",
    "for k in ks:\n",
    "    B1h, B2h, B3h, B = model.source_source_lens_bs(k, k, k, z,  type=1)\n",
    "    B1h_ssl.append(B1h)\n",
    "    B2h_ssl.append(B2h)\n",
    "    B3h_ssl.append(B3h)\n",
    "    B_ssl.append(B)\n",
    "\n",
    "B1h_ssl=np.array(B1h_ssl)\n",
    "B2h_ssl=np.array(B2h_ssl)\n",
    "B3h_ssl=np.array(B3h_ssl)\n",
    "B_ssl=np.array(B_ssl)\n"
   ]
  },
  {
   "cell_type": "code",
   "execution_count": null,
   "metadata": {},
   "outputs": [],
   "source": [
    "# Get Reduced bispectrum\n",
    "\n",
    "Q1h_ssl=B1h_ssl/(Pk_sl**2+2*Pk_ss*Pk_sl)\n",
    "Q2h_ssl=B2h_ssl/(Pk_sl**2+2*Pk_ss*Pk_sl)\n",
    "Q3h_ssl=B3h_ssl/(Pk_sl**2+2*Pk_ss*Pk_sl)\n",
    "Q_ssl=B_ssl/(Pk_sl**2+2*Pk_ss*Pk_sl)"
   ]
  },
  {
   "cell_type": "code",
   "execution_count": null,
   "metadata": {},
   "outputs": [],
   "source": [
    "# Plot\n",
    "\n",
    "plt.loglog(ks, Q1h_ssl, label='1-halo', ls='--')\n",
    "plt.loglog(ks, Q2h_ssl, label='2-halo', ls=':')\n",
    "plt.loglog(ks, Q3h_ssl, label='3-halo', ls='-.')\n",
    "plt.loglog(ks, Q_ssl, label='total')\n",
    "plt.legend()\n",
    "\n",
    "plt.xlabel(r'$k$ [Mpc$^{-1}$]')\n",
    "plt.ylabel(r'Matter-Matter-Galaxy $Q(k,k,k)$')\n"
   ]
  }
 ],
 "metadata": {
  "kernelspec": {
   "display_name": "g3l",
   "language": "python",
   "name": "python3"
  },
  "language_info": {
   "codemirror_mode": {
    "name": "ipython",
    "version": 3
   },
   "file_extension": ".py",
   "mimetype": "text/x-python",
   "name": "python",
   "nbconvert_exporter": "python",
   "pygments_lexer": "ipython3",
   "version": "3.12.1"
  }
 },
 "nbformat": 4,
 "nbformat_minor": 2
}
