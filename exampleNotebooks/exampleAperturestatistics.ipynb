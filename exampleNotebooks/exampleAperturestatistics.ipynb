{
 "cells": [
  {
   "cell_type": "code",
   "execution_count": 1,
   "metadata": {},
   "outputs": [],
   "source": [
    "import g3lhalo\n",
    "import pyccl as ccl\n",
    "import matplotlib.pyplot as plt\n",
    "import numpy as np"
   ]
  },
  {
   "cell_type": "code",
   "execution_count": 2,
   "metadata": {},
   "outputs": [],
   "source": [
    "# !pip install ../"
   ]
  },
  {
   "cell_type": "markdown",
   "metadata": {},
   "source": [
    "# Example for Aperture Statistics"
   ]
  },
  {
   "cell_type": "markdown",
   "metadata": {},
   "source": [
    "We show here how to calculate the aperture statistics"
   ]
  },
  {
   "cell_type": "code",
   "execution_count": 3,
   "metadata": {},
   "outputs": [
    {
     "name": "stdout",
     "output_type": "stream",
     "text": [
      "Setting cosmology\n",
      "Om_c: 0.28\n",
      "Om_b: 0.05\n",
      "h: 0.67\n",
      "sigma_8: 0.8\n",
      "n_s: 0.96\n",
      "Also setting linear matter power spectrum\n",
      "Setting halo mass function\n",
      "<pyccl.halos.hmfunc.sheth99.MassFuncSheth99>\n",
      "\tmass_def = MassDef(Delta=fof, rho_type=matter)\n",
      "Setting halo bias function\n",
      "<pyccl.halos.hbias.sheth01.HaloBiasSheth01>\n",
      "\tmass_def = MassDef(Delta=fof, rho_type=matter)\n",
      "Setting concentration mass relation\n",
      "<pyccl.halos.concentration.duffy08.ConcentrationDuffy08>\n",
      "\tmass_def = MassDef(Delta=200, rho_type=critical)\n",
      "\tmass_def_strict = True\n"
     ]
    }
   ],
   "source": [
    "# Cosmology\n",
    "cosmo = {\n",
    "    'Om_c': 0.28,\n",
    "    'Om_b': 0.05,\n",
    "    'h': 0.67,\n",
    "    'sigma_8': 0.8,\n",
    "    'n_s': 0.96\n",
    "}\n",
    "\n",
    "# Halo mass function\n",
    "hmf=ccl.halos.MassFuncSheth99()\n",
    "\n",
    "# Halo bias\n",
    "hbf=ccl.halos.HaloBiasSheth01()\n",
    "\n",
    "# Concentration mass Relation\n",
    "cmfunc=ccl.halos.ConcentrationDuffy08()\n",
    "\n",
    "\n",
    "# HOD\n",
    "# HOD parameters\n",
    "alpha=1\n",
    "sigma=0.2\n",
    "Mth=1e12\n",
    "Mprime=20*Mth\n",
    "beta=1\n",
    "\n",
    "# Correlation between galaxy populations\n",
    "A=0 # 0 ==> No correlation between populations\n",
    "epsilon=0\n",
    "\n",
    "# Scaling of halo profile concentration\n",
    "flens=1 # 1 ==> Same as dark matter\n",
    "\n",
    "# Get HOD\n",
    "hod_cen, hod_sat = g3lhalo.HOD_Zheng(alpha, Mth, sigma, Mprime, beta)\n",
    "\n",
    "# Define model\n",
    "model = g3lhalo.halomodel(verbose=True, cosmo=cosmo, hmfunc=hmf, hbfunc=hbf, cmfunc=cmfunc)\n",
    "model.set_hods(hod_cen, hod_sat, A=A, epsilon=epsilon, flens1=flens, flens2=flens)\n",
    "\n",
    "\n"
   ]
  },
  {
   "cell_type": "code",
   "execution_count": 4,
   "metadata": {},
   "outputs": [],
   "source": [
    "zs=np.linspace(0.2, 1.5)\n",
    "\n",
    "n_sources=np.exp(-(zs-1)**2/0.02**2)\n",
    "n_lenses=np.exp(-(zs-0.5)**2/0.02**2)\n",
    "\n",
    "n_sources/=(np.sum(n_sources)*(zs[1]-zs[0]))\n",
    "n_lenses/=(np.sum(n_lenses)*(zs[1]-zs[0]))\n"
   ]
  },
  {
   "cell_type": "code",
   "execution_count": 5,
   "metadata": {},
   "outputs": [
    {
     "data": {
      "text/plain": [
       "Text(0, 0.5, '$n(z)$')"
      ]
     },
     "execution_count": 5,
     "metadata": {},
     "output_type": "execute_result"
    },
    {
     "data": {
      "image/png": "[encoded data removed]",
      "text/plain": [
       "<Figure size 640x480 with 1 Axes>"
      ]
     },
     "metadata": {},
     "output_type": "display_data"
    }
   ],
   "source": [
    "\n",
    "plt.plot(zs, n_sources, label=\"sources\")\n",
    "\n",
    "plt.plot(zs, n_lenses, label='lenses')\n",
    "\n",
    "\n",
    "plt.legend()\n",
    "plt.xlabel(r\"Redshift $z$\")\n",
    "plt.ylabel(r\"$n(z)$\")"
   ]
  },
  {
   "cell_type": "code",
   "execution_count": 6,
   "metadata": {},
   "outputs": [],
   "source": [
    "projection=g3lhalo.projectedSpectra(model)\n",
    "\n",
    "projection.set_nz_lenses(zs, n_lenses)\n",
    "projection.set_nz_sources(zs, n_sources)"
   ]
  },
  {
   "cell_type": "code",
   "execution_count": 7,
   "metadata": {},
   "outputs": [],
   "source": [
    "# Precompute power spectra\n",
    "\n",
    "ells=np.geomspace(1, 20000, 20)\n",
    "\n",
    "# convergence-convergence\n",
    "C_kk_1h, C_kk_2h, C_kk=projection.C_kk(ells)\n",
    "\n",
    "C_kk_dict={\n",
    "    'ell': ells,\n",
    "    'ps': C_kk\n",
    "}\n",
    "\n",
    "# convergence-galaxies\n",
    "C_kg_1h, C_kg_2h, C_kg=projection.C_kg(ells, 1)\n",
    "\n",
    "C_kg_dict={\n",
    "    'ell': ells,\n",
    "    'ps': C_kg\n",
    "}\n",
    "\n",
    "# galaxies-galaxies\n",
    "C_gg_1h, C_gg_2h, C_gg=projection.C_gg(ells, 1, 1)\n",
    "\n",
    "C_gg_dict={\n",
    "    'ell': ells,\n",
    "    'ps': C_gg\n",
    "}"
   ]
  },
  {
   "cell_type": "code",
   "execution_count": 8,
   "metadata": {},
   "outputs": [],
   "source": [
    "thetas=np.geomspace(4, 32, 4)\n"
   ]
  },
  {
   "cell_type": "code",
   "execution_count": 9,
   "metadata": {},
   "outputs": [],
   "source": [
    "# Aperture statistics: Map2\n",
    "\n",
    "Map2_calculator = g3lhalo.apertureStatistics(powerspec=C_kk_dict)\n",
    "Map2=[]\n",
    "\n",
    "for th in thetas:\n",
    "    th_rad=np.deg2rad(th/60)\n",
    "    Map2.append(Map2_calculator.second_order(th_rad))\n"
   ]
  },
  {
   "cell_type": "code",
   "execution_count": 10,
   "metadata": {},
   "outputs": [],
   "source": [
    "# Aperture statistics: MapNap\n",
    "\n",
    "MapNap_calculator = g3lhalo.apertureStatistics(powerspec=C_kg_dict)\n",
    "MapNap=[]\n",
    "\n",
    "for th in thetas:\n",
    "    th_rad=np.deg2rad(th/60)\n",
    "    MapNap.append(MapNap_calculator.second_order(th_rad))\n"
   ]
  },
  {
   "cell_type": "code",
   "execution_count": 11,
   "metadata": {},
   "outputs": [],
   "source": [
    "# Aperture statistics: NapNap\n",
    "\n",
    "NapNap_calculator = g3lhalo.apertureStatistics(powerspec=C_gg_dict)\n",
    "NapNap=[]\n",
    "\n",
    "for th in thetas:\n",
    "    th_rad=np.deg2rad(th/60)\n",
    "    NapNap.append(NapNap_calculator.second_order(th_rad))\n"
   ]
  },
  {
   "cell_type": "code",
   "execution_count": 12,
   "metadata": {},
   "outputs": [
    {
     "data": {
      "text/plain": [
       "[<matplotlib.lines.Line2D at 0x7a6494079d00>]"
      ]
     },
     "execution_count": 12,
     "metadata": {},
     "output_type": "execute_result"
    },
    {
     "data": {
      "image/png": "[encoded data removed]",
      "text/plain": [
       "<Figure size 640x480 with 1 Axes>"
      ]
     },
     "metadata": {},
     "output_type": "display_data"
    }
   ],
   "source": [
    "plt.loglog(thetas, Map2, label='MM')\n",
    "plt.loglog(thetas, MapNap, label='MN')\n",
    "plt.loglog(thetas, NapNap, label='NN')\n",
    "\n",
    "\n"
   ]
  },
  {
   "cell_type": "code",
   "execution_count": null,
   "metadata": {},
   "outputs": [],
   "source": [
    "# Precompute bi spectra\n",
    "\n",
    "ells1=np.geomspace(1, 20000, 20)\n",
    "ells2=np.geomspace(1, 20000, 20)\n",
    "phis=np.linspace(0, 2*np.pi, 20)\n",
    "\n",
    "# matter-galaxy-galaxy\n",
    "\n",
    "Bs_kgg=np.zeros((len(ells1), len(ells2), len(phis)))\n",
    "for i, ell1 in enumerate(ells1):\n",
    "    for j, ell2 in enumerate(ells2):\n",
    "        for k, phi in enumerate(phis):\n",
    "\n",
    "            ell3=np.sqrt(ell1**2+ell2**2+2*np.cos(phi)*ell1*ell2)\n",
    "\n",
    "            B1h, B2h, B3h, B=projection.C_kgg(ell1, ell2, ell3, 1, 1)\n",
    "            Bs_kgg[i, j, k]=B\n",
    "\n",
    "B_kgg_dict={\n",
    "    'ell1': ells1,\n",
    "    'ell2': ells2,\n",
    "    'phi': phis, \n",
    "    'bs': Bs_kgg\n",
    "}"
   ]
  },
  {
   "cell_type": "code",
   "execution_count": null,
   "metadata": {},
   "outputs": [
    {
     "name": "stderr",
     "output_type": "stream",
     "text": [
      "/home/laila/miniconda3/envs/g3l/lib/python3.12/site-packages/g3lhalo/apertureStatistics.py:6: SyntaxWarning: invalid escape sequence '\\('\n",
      "  \"\"\"\n"
     ]
    },
    {
     "ename": "TypeError",
     "evalue": "list indices must be integers or slices, not tuple",
     "output_type": "error",
     "traceback": [
      "\u001b[0;31m---------------------------------------------------------------------------\u001b[0m",
      "\u001b[0;31mTypeError\u001b[0m                                 Traceback (most recent call last)",
      "Cell \u001b[0;32mIn[14], line 8\u001b[0m\n\u001b[1;32m      6\u001b[0m \u001b[38;5;28;01mfor\u001b[39;00m th \u001b[38;5;129;01min\u001b[39;00m thetas:\n\u001b[1;32m      7\u001b[0m     th_rad\u001b[38;5;241m=\u001b[39mnp\u001b[38;5;241m.\u001b[39mdeg2rad(th\u001b[38;5;241m/\u001b[39m\u001b[38;5;241m60\u001b[39m)\n\u001b[0;32m----> 8\u001b[0m     MapNapNap\u001b[38;5;241m.\u001b[39mappend(\u001b[43mMapNapNap_calculator\u001b[49m\u001b[38;5;241;43m.\u001b[39;49m\u001b[43mthird_order\u001b[49m\u001b[43m(\u001b[49m\u001b[43mth_rad\u001b[49m\u001b[43m,\u001b[49m\u001b[43m \u001b[49m\u001b[43mth_rad\u001b[49m\u001b[43m,\u001b[49m\u001b[43m \u001b[49m\u001b[43mth_rad\u001b[49m\u001b[43m)\u001b[49m)\n",
      "File \u001b[0;32m~/miniconda3/envs/g3l/lib/python3.12/site-packages/g3lhalo/apertureStatistics.py:176\u001b[0m, in \u001b[0;36mapertureStatistics.third_order\u001b[0;34m(self, theta1, theta2, theta3)\u001b[0m\n\u001b[1;32m    173\u001b[0m \u001b[38;5;28;01mdef\u001b[39;00m \u001b[38;5;21mintegrand_wrapper\u001b[39m(ell1, ell2, phi):\n\u001b[1;32m    174\u001b[0m     \u001b[38;5;28;01mreturn\u001b[39;00m \u001b[38;5;28mself\u001b[39m\u001b[38;5;241m.\u001b[39mintegrand_third_order(ell1, ell2, phi, theta1, theta2, theta3)\n\u001b[0;32m--> 176\u001b[0m result, error\u001b[38;5;241m=\u001b[39m\u001b[43mintegrate\u001b[49m\u001b[38;5;241;43m.\u001b[39;49m\u001b[43mnquad\u001b[49m\u001b[43m(\u001b[49m\u001b[43mintegrand_wrapper\u001b[49m\u001b[43m,\u001b[49m\u001b[43m \u001b[49m\u001b[43m[\u001b[49m\u001b[43mell1_limits\u001b[49m\u001b[43m,\u001b[49m\u001b[43m \u001b[49m\u001b[43mell2_limits\u001b[49m\u001b[43m,\u001b[49m\u001b[43m \u001b[49m\u001b[43mphi_limits\u001b[49m\u001b[43m]\u001b[49m\u001b[43m,\u001b[49m\u001b[43m \u001b[49m\u001b[43mopts\u001b[49m\u001b[38;5;241;43m=\u001b[39;49m\u001b[43m{\u001b[49m\u001b[38;5;124;43m'\u001b[39;49m\u001b[38;5;124;43mepsrel\u001b[39;49m\u001b[38;5;124;43m'\u001b[39;49m\u001b[43m:\u001b[49m\u001b[43m \u001b[49m\u001b[38;5;241;43m1e-4\u001b[39;49m\u001b[43m}\u001b[49m\u001b[43m)\u001b[49m\n\u001b[1;32m    178\u001b[0m prefactor\u001b[38;5;241m=\u001b[39m\u001b[38;5;241m1\u001b[39m\u001b[38;5;241m/\u001b[39m\u001b[38;5;241m8\u001b[39m\u001b[38;5;241m/\u001b[39mnp\u001b[38;5;241m.\u001b[39mpi\u001b[38;5;241m*\u001b[39m\u001b[38;5;241m*\u001b[39m\u001b[38;5;241m3\u001b[39m\n\u001b[1;32m    179\u001b[0m \u001b[38;5;28;01mreturn\u001b[39;00m result\u001b[38;5;241m*\u001b[39mprefactor\n",
      "File \u001b[0;32m~/miniconda3/envs/g3l/lib/python3.12/site-packages/scipy/integrate/_quadpack_py.py:1218\u001b[0m, in \u001b[0;36mnquad\u001b[0;34m(func, ranges, args, opts, full_output)\u001b[0m\n\u001b[1;32m   1216\u001b[0m \u001b[38;5;28;01melse\u001b[39;00m:\n\u001b[1;32m   1217\u001b[0m     opts \u001b[38;5;241m=\u001b[39m [opt \u001b[38;5;28;01mif\u001b[39;00m \u001b[38;5;28mcallable\u001b[39m(opt) \u001b[38;5;28;01melse\u001b[39;00m _OptFunc(opt) \u001b[38;5;28;01mfor\u001b[39;00m opt \u001b[38;5;129;01min\u001b[39;00m opts]\n\u001b[0;32m-> 1218\u001b[0m \u001b[38;5;28;01mreturn\u001b[39;00m \u001b[43m_NQuad\u001b[49m\u001b[43m(\u001b[49m\u001b[43mfunc\u001b[49m\u001b[43m,\u001b[49m\u001b[43m \u001b[49m\u001b[43mranges\u001b[49m\u001b[43m,\u001b[49m\u001b[43m \u001b[49m\u001b[43mopts\u001b[49m\u001b[43m,\u001b[49m\u001b[43m \u001b[49m\u001b[43mfull_output\u001b[49m\u001b[43m)\u001b[49m\u001b[38;5;241;43m.\u001b[39;49m\u001b[43mintegrate\u001b[49m\u001b[43m(\u001b[49m\u001b[38;5;241;43m*\u001b[39;49m\u001b[43margs\u001b[49m\u001b[43m)\u001b[49m\n",
      "File \u001b[0;32m~/miniconda3/envs/g3l/lib/python3.12/site-packages/scipy/integrate/_quadpack_py.py:1272\u001b[0m, in \u001b[0;36m_NQuad.integrate\u001b[0;34m(self, *args, **kwargs)\u001b[0m\n\u001b[1;32m   1270\u001b[0m \u001b[38;5;28;01melse\u001b[39;00m:\n\u001b[1;32m   1271\u001b[0m     f \u001b[38;5;241m=\u001b[39m partial(\u001b[38;5;28mself\u001b[39m\u001b[38;5;241m.\u001b[39mintegrate, depth\u001b[38;5;241m=\u001b[39mdepth\u001b[38;5;241m+\u001b[39m\u001b[38;5;241m1\u001b[39m)\n\u001b[0;32m-> 1272\u001b[0m quad_r \u001b[38;5;241m=\u001b[39m \u001b[43mquad\u001b[49m\u001b[43m(\u001b[49m\u001b[43mf\u001b[49m\u001b[43m,\u001b[49m\u001b[43m \u001b[49m\u001b[43mlow\u001b[49m\u001b[43m,\u001b[49m\u001b[43m \u001b[49m\u001b[43mhigh\u001b[49m\u001b[43m,\u001b[49m\u001b[43m \u001b[49m\u001b[43margs\u001b[49m\u001b[38;5;241;43m=\u001b[39;49m\u001b[43margs\u001b[49m\u001b[43m,\u001b[49m\u001b[43m \u001b[49m\u001b[43mfull_output\u001b[49m\u001b[38;5;241;43m=\u001b[39;49m\u001b[38;5;28;43mself\u001b[39;49m\u001b[38;5;241;43m.\u001b[39;49m\u001b[43mfull_output\u001b[49m\u001b[43m,\u001b[49m\n\u001b[1;32m   1273\u001b[0m \u001b[43m              \u001b[49m\u001b[38;5;241;43m*\u001b[39;49m\u001b[38;5;241;43m*\u001b[39;49m\u001b[43mopt\u001b[49m\u001b[43m)\u001b[49m\n\u001b[1;32m   1274\u001b[0m value \u001b[38;5;241m=\u001b[39m quad_r[\u001b[38;5;241m0\u001b[39m]\n\u001b[1;32m   1275\u001b[0m abserr \u001b[38;5;241m=\u001b[39m quad_r[\u001b[38;5;241m1\u001b[39m]\n",
      "File \u001b[0;32m~/miniconda3/envs/g3l/lib/python3.12/site-packages/scipy/integrate/_quadpack_py.py:464\u001b[0m, in \u001b[0;36mquad\u001b[0;34m(func, a, b, args, full_output, epsabs, epsrel, limit, points, weight, wvar, wopts, maxp1, limlst, complex_func)\u001b[0m\n\u001b[1;32m    461\u001b[0m     \u001b[38;5;28;01mreturn\u001b[39;00m retval\n\u001b[1;32m    463\u001b[0m \u001b[38;5;28;01mif\u001b[39;00m weight \u001b[38;5;129;01mis\u001b[39;00m \u001b[38;5;28;01mNone\u001b[39;00m:\n\u001b[0;32m--> 464\u001b[0m     retval \u001b[38;5;241m=\u001b[39m \u001b[43m_quad\u001b[49m\u001b[43m(\u001b[49m\u001b[43mfunc\u001b[49m\u001b[43m,\u001b[49m\u001b[43m \u001b[49m\u001b[43ma\u001b[49m\u001b[43m,\u001b[49m\u001b[43m \u001b[49m\u001b[43mb\u001b[49m\u001b[43m,\u001b[49m\u001b[43m \u001b[49m\u001b[43margs\u001b[49m\u001b[43m,\u001b[49m\u001b[43m \u001b[49m\u001b[43mfull_output\u001b[49m\u001b[43m,\u001b[49m\u001b[43m \u001b[49m\u001b[43mepsabs\u001b[49m\u001b[43m,\u001b[49m\u001b[43m \u001b[49m\u001b[43mepsrel\u001b[49m\u001b[43m,\u001b[49m\u001b[43m \u001b[49m\u001b[43mlimit\u001b[49m\u001b[43m,\u001b[49m\n\u001b[1;32m    465\u001b[0m \u001b[43m                   \u001b[49m\u001b[43mpoints\u001b[49m\u001b[43m)\u001b[49m\n\u001b[1;32m    466\u001b[0m \u001b[38;5;28;01melse\u001b[39;00m:\n\u001b[1;32m    467\u001b[0m     \u001b[38;5;28;01mif\u001b[39;00m points \u001b[38;5;129;01mis\u001b[39;00m \u001b[38;5;129;01mnot\u001b[39;00m \u001b[38;5;28;01mNone\u001b[39;00m:\n",
      "File \u001b[0;32m~/miniconda3/envs/g3l/lib/python3.12/site-packages/scipy/integrate/_quadpack_py.py:611\u001b[0m, in \u001b[0;36m_quad\u001b[0;34m(func, a, b, args, full_output, epsabs, epsrel, limit, points)\u001b[0m\n\u001b[1;32m    609\u001b[0m \u001b[38;5;28;01mif\u001b[39;00m points \u001b[38;5;129;01mis\u001b[39;00m \u001b[38;5;28;01mNone\u001b[39;00m:\n\u001b[1;32m    610\u001b[0m     \u001b[38;5;28;01mif\u001b[39;00m infbounds \u001b[38;5;241m==\u001b[39m \u001b[38;5;241m0\u001b[39m:\n\u001b[0;32m--> 611\u001b[0m         \u001b[38;5;28;01mreturn\u001b[39;00m \u001b[43m_quadpack\u001b[49m\u001b[38;5;241;43m.\u001b[39;49m\u001b[43m_qagse\u001b[49m\u001b[43m(\u001b[49m\u001b[43mfunc\u001b[49m\u001b[43m,\u001b[49m\u001b[43ma\u001b[49m\u001b[43m,\u001b[49m\u001b[43mb\u001b[49m\u001b[43m,\u001b[49m\u001b[43margs\u001b[49m\u001b[43m,\u001b[49m\u001b[43mfull_output\u001b[49m\u001b[43m,\u001b[49m\u001b[43mepsabs\u001b[49m\u001b[43m,\u001b[49m\u001b[43mepsrel\u001b[49m\u001b[43m,\u001b[49m\u001b[43mlimit\u001b[49m\u001b[43m)\u001b[49m\n\u001b[1;32m    612\u001b[0m     \u001b[38;5;28;01melse\u001b[39;00m:\n\u001b[1;32m    613\u001b[0m         \u001b[38;5;28;01mreturn\u001b[39;00m _quadpack\u001b[38;5;241m.\u001b[39m_qagie(func, bound, infbounds, args, full_output, \n\u001b[1;32m    614\u001b[0m                                 epsabs, epsrel, limit)\n",
      "File \u001b[0;32m~/miniconda3/envs/g3l/lib/python3.12/site-packages/scipy/integrate/_quadpack_py.py:1272\u001b[0m, in \u001b[0;36m_NQuad.integrate\u001b[0;34m(self, *args, **kwargs)\u001b[0m\n\u001b[1;32m   1270\u001b[0m \u001b[38;5;28;01melse\u001b[39;00m:\n\u001b[1;32m   1271\u001b[0m     f \u001b[38;5;241m=\u001b[39m partial(\u001b[38;5;28mself\u001b[39m\u001b[38;5;241m.\u001b[39mintegrate, depth\u001b[38;5;241m=\u001b[39mdepth\u001b[38;5;241m+\u001b[39m\u001b[38;5;241m1\u001b[39m)\n\u001b[0;32m-> 1272\u001b[0m quad_r \u001b[38;5;241m=\u001b[39m \u001b[43mquad\u001b[49m\u001b[43m(\u001b[49m\u001b[43mf\u001b[49m\u001b[43m,\u001b[49m\u001b[43m \u001b[49m\u001b[43mlow\u001b[49m\u001b[43m,\u001b[49m\u001b[43m \u001b[49m\u001b[43mhigh\u001b[49m\u001b[43m,\u001b[49m\u001b[43m \u001b[49m\u001b[43margs\u001b[49m\u001b[38;5;241;43m=\u001b[39;49m\u001b[43margs\u001b[49m\u001b[43m,\u001b[49m\u001b[43m \u001b[49m\u001b[43mfull_output\u001b[49m\u001b[38;5;241;43m=\u001b[39;49m\u001b[38;5;28;43mself\u001b[39;49m\u001b[38;5;241;43m.\u001b[39;49m\u001b[43mfull_output\u001b[49m\u001b[43m,\u001b[49m\n\u001b[1;32m   1273\u001b[0m \u001b[43m              \u001b[49m\u001b[38;5;241;43m*\u001b[39;49m\u001b[38;5;241;43m*\u001b[39;49m\u001b[43mopt\u001b[49m\u001b[43m)\u001b[49m\n\u001b[1;32m   1274\u001b[0m value \u001b[38;5;241m=\u001b[39m quad_r[\u001b[38;5;241m0\u001b[39m]\n\u001b[1;32m   1275\u001b[0m abserr \u001b[38;5;241m=\u001b[39m quad_r[\u001b[38;5;241m1\u001b[39m]\n",
      "File \u001b[0;32m~/miniconda3/envs/g3l/lib/python3.12/site-packages/scipy/integrate/_quadpack_py.py:464\u001b[0m, in \u001b[0;36mquad\u001b[0;34m(func, a, b, args, full_output, epsabs, epsrel, limit, points, weight, wvar, wopts, maxp1, limlst, complex_func)\u001b[0m\n\u001b[1;32m    461\u001b[0m     \u001b[38;5;28;01mreturn\u001b[39;00m retval\n\u001b[1;32m    463\u001b[0m \u001b[38;5;28;01mif\u001b[39;00m weight \u001b[38;5;129;01mis\u001b[39;00m \u001b[38;5;28;01mNone\u001b[39;00m:\n\u001b[0;32m--> 464\u001b[0m     retval \u001b[38;5;241m=\u001b[39m \u001b[43m_quad\u001b[49m\u001b[43m(\u001b[49m\u001b[43mfunc\u001b[49m\u001b[43m,\u001b[49m\u001b[43m \u001b[49m\u001b[43ma\u001b[49m\u001b[43m,\u001b[49m\u001b[43m \u001b[49m\u001b[43mb\u001b[49m\u001b[43m,\u001b[49m\u001b[43m \u001b[49m\u001b[43margs\u001b[49m\u001b[43m,\u001b[49m\u001b[43m \u001b[49m\u001b[43mfull_output\u001b[49m\u001b[43m,\u001b[49m\u001b[43m \u001b[49m\u001b[43mepsabs\u001b[49m\u001b[43m,\u001b[49m\u001b[43m \u001b[49m\u001b[43mepsrel\u001b[49m\u001b[43m,\u001b[49m\u001b[43m \u001b[49m\u001b[43mlimit\u001b[49m\u001b[43m,\u001b[49m\n\u001b[1;32m    465\u001b[0m \u001b[43m                   \u001b[49m\u001b[43mpoints\u001b[49m\u001b[43m)\u001b[49m\n\u001b[1;32m    466\u001b[0m \u001b[38;5;28;01melse\u001b[39;00m:\n\u001b[1;32m    467\u001b[0m     \u001b[38;5;28;01mif\u001b[39;00m points \u001b[38;5;129;01mis\u001b[39;00m \u001b[38;5;129;01mnot\u001b[39;00m \u001b[38;5;28;01mNone\u001b[39;00m:\n",
      "File \u001b[0;32m~/miniconda3/envs/g3l/lib/python3.12/site-packages/scipy/integrate/_quadpack_py.py:611\u001b[0m, in \u001b[0;36m_quad\u001b[0;34m(func, a, b, args, full_output, epsabs, epsrel, limit, points)\u001b[0m\n\u001b[1;32m    609\u001b[0m \u001b[38;5;28;01mif\u001b[39;00m points \u001b[38;5;129;01mis\u001b[39;00m \u001b[38;5;28;01mNone\u001b[39;00m:\n\u001b[1;32m    610\u001b[0m     \u001b[38;5;28;01mif\u001b[39;00m infbounds \u001b[38;5;241m==\u001b[39m \u001b[38;5;241m0\u001b[39m:\n\u001b[0;32m--> 611\u001b[0m         \u001b[38;5;28;01mreturn\u001b[39;00m \u001b[43m_quadpack\u001b[49m\u001b[38;5;241;43m.\u001b[39;49m\u001b[43m_qagse\u001b[49m\u001b[43m(\u001b[49m\u001b[43mfunc\u001b[49m\u001b[43m,\u001b[49m\u001b[43ma\u001b[49m\u001b[43m,\u001b[49m\u001b[43mb\u001b[49m\u001b[43m,\u001b[49m\u001b[43margs\u001b[49m\u001b[43m,\u001b[49m\u001b[43mfull_output\u001b[49m\u001b[43m,\u001b[49m\u001b[43mepsabs\u001b[49m\u001b[43m,\u001b[49m\u001b[43mepsrel\u001b[49m\u001b[43m,\u001b[49m\u001b[43mlimit\u001b[49m\u001b[43m)\u001b[49m\n\u001b[1;32m    612\u001b[0m     \u001b[38;5;28;01melse\u001b[39;00m:\n\u001b[1;32m    613\u001b[0m         \u001b[38;5;28;01mreturn\u001b[39;00m _quadpack\u001b[38;5;241m.\u001b[39m_qagie(func, bound, infbounds, args, full_output, \n\u001b[1;32m    614\u001b[0m                                 epsabs, epsrel, limit)\n",
      "File \u001b[0;32m~/miniconda3/envs/g3l/lib/python3.12/site-packages/scipy/integrate/_quadpack_py.py:1272\u001b[0m, in \u001b[0;36m_NQuad.integrate\u001b[0;34m(self, *args, **kwargs)\u001b[0m\n\u001b[1;32m   1270\u001b[0m \u001b[38;5;28;01melse\u001b[39;00m:\n\u001b[1;32m   1271\u001b[0m     f \u001b[38;5;241m=\u001b[39m partial(\u001b[38;5;28mself\u001b[39m\u001b[38;5;241m.\u001b[39mintegrate, depth\u001b[38;5;241m=\u001b[39mdepth\u001b[38;5;241m+\u001b[39m\u001b[38;5;241m1\u001b[39m)\n\u001b[0;32m-> 1272\u001b[0m quad_r \u001b[38;5;241m=\u001b[39m \u001b[43mquad\u001b[49m\u001b[43m(\u001b[49m\u001b[43mf\u001b[49m\u001b[43m,\u001b[49m\u001b[43m \u001b[49m\u001b[43mlow\u001b[49m\u001b[43m,\u001b[49m\u001b[43m \u001b[49m\u001b[43mhigh\u001b[49m\u001b[43m,\u001b[49m\u001b[43m \u001b[49m\u001b[43margs\u001b[49m\u001b[38;5;241;43m=\u001b[39;49m\u001b[43margs\u001b[49m\u001b[43m,\u001b[49m\u001b[43m \u001b[49m\u001b[43mfull_output\u001b[49m\u001b[38;5;241;43m=\u001b[39;49m\u001b[38;5;28;43mself\u001b[39;49m\u001b[38;5;241;43m.\u001b[39;49m\u001b[43mfull_output\u001b[49m\u001b[43m,\u001b[49m\n\u001b[1;32m   1273\u001b[0m \u001b[43m              \u001b[49m\u001b[38;5;241;43m*\u001b[39;49m\u001b[38;5;241;43m*\u001b[39;49m\u001b[43mopt\u001b[49m\u001b[43m)\u001b[49m\n\u001b[1;32m   1274\u001b[0m value \u001b[38;5;241m=\u001b[39m quad_r[\u001b[38;5;241m0\u001b[39m]\n\u001b[1;32m   1275\u001b[0m abserr \u001b[38;5;241m=\u001b[39m quad_r[\u001b[38;5;241m1\u001b[39m]\n",
      "File \u001b[0;32m~/miniconda3/envs/g3l/lib/python3.12/site-packages/scipy/integrate/_quadpack_py.py:464\u001b[0m, in \u001b[0;36mquad\u001b[0;34m(func, a, b, args, full_output, epsabs, epsrel, limit, points, weight, wvar, wopts, maxp1, limlst, complex_func)\u001b[0m\n\u001b[1;32m    461\u001b[0m     \u001b[38;5;28;01mreturn\u001b[39;00m retval\n\u001b[1;32m    463\u001b[0m \u001b[38;5;28;01mif\u001b[39;00m weight \u001b[38;5;129;01mis\u001b[39;00m \u001b[38;5;28;01mNone\u001b[39;00m:\n\u001b[0;32m--> 464\u001b[0m     retval \u001b[38;5;241m=\u001b[39m \u001b[43m_quad\u001b[49m\u001b[43m(\u001b[49m\u001b[43mfunc\u001b[49m\u001b[43m,\u001b[49m\u001b[43m \u001b[49m\u001b[43ma\u001b[49m\u001b[43m,\u001b[49m\u001b[43m \u001b[49m\u001b[43mb\u001b[49m\u001b[43m,\u001b[49m\u001b[43m \u001b[49m\u001b[43margs\u001b[49m\u001b[43m,\u001b[49m\u001b[43m \u001b[49m\u001b[43mfull_output\u001b[49m\u001b[43m,\u001b[49m\u001b[43m \u001b[49m\u001b[43mepsabs\u001b[49m\u001b[43m,\u001b[49m\u001b[43m \u001b[49m\u001b[43mepsrel\u001b[49m\u001b[43m,\u001b[49m\u001b[43m \u001b[49m\u001b[43mlimit\u001b[49m\u001b[43m,\u001b[49m\n\u001b[1;32m    465\u001b[0m \u001b[43m                   \u001b[49m\u001b[43mpoints\u001b[49m\u001b[43m)\u001b[49m\n\u001b[1;32m    466\u001b[0m \u001b[38;5;28;01melse\u001b[39;00m:\n\u001b[1;32m    467\u001b[0m     \u001b[38;5;28;01mif\u001b[39;00m points \u001b[38;5;129;01mis\u001b[39;00m \u001b[38;5;129;01mnot\u001b[39;00m \u001b[38;5;28;01mNone\u001b[39;00m:\n",
      "File \u001b[0;32m~/miniconda3/envs/g3l/lib/python3.12/site-packages/scipy/integrate/_quadpack_py.py:611\u001b[0m, in \u001b[0;36m_quad\u001b[0;34m(func, a, b, args, full_output, epsabs, epsrel, limit, points)\u001b[0m\n\u001b[1;32m    609\u001b[0m \u001b[38;5;28;01mif\u001b[39;00m points \u001b[38;5;129;01mis\u001b[39;00m \u001b[38;5;28;01mNone\u001b[39;00m:\n\u001b[1;32m    610\u001b[0m     \u001b[38;5;28;01mif\u001b[39;00m infbounds \u001b[38;5;241m==\u001b[39m \u001b[38;5;241m0\u001b[39m:\n\u001b[0;32m--> 611\u001b[0m         \u001b[38;5;28;01mreturn\u001b[39;00m \u001b[43m_quadpack\u001b[49m\u001b[38;5;241;43m.\u001b[39;49m\u001b[43m_qagse\u001b[49m\u001b[43m(\u001b[49m\u001b[43mfunc\u001b[49m\u001b[43m,\u001b[49m\u001b[43ma\u001b[49m\u001b[43m,\u001b[49m\u001b[43mb\u001b[49m\u001b[43m,\u001b[49m\u001b[43margs\u001b[49m\u001b[43m,\u001b[49m\u001b[43mfull_output\u001b[49m\u001b[43m,\u001b[49m\u001b[43mepsabs\u001b[49m\u001b[43m,\u001b[49m\u001b[43mepsrel\u001b[49m\u001b[43m,\u001b[49m\u001b[43mlimit\u001b[49m\u001b[43m)\u001b[49m\n\u001b[1;32m    612\u001b[0m     \u001b[38;5;28;01melse\u001b[39;00m:\n\u001b[1;32m    613\u001b[0m         \u001b[38;5;28;01mreturn\u001b[39;00m _quadpack\u001b[38;5;241m.\u001b[39m_qagie(func, bound, infbounds, args, full_output, \n\u001b[1;32m    614\u001b[0m                                 epsabs, epsrel, limit)\n",
      "File \u001b[0;32m~/miniconda3/envs/g3l/lib/python3.12/site-packages/g3lhalo/apertureStatistics.py:174\u001b[0m, in \u001b[0;36mapertureStatistics.third_order.<locals>.integrand_wrapper\u001b[0;34m(ell1, ell2, phi)\u001b[0m\n\u001b[1;32m    173\u001b[0m \u001b[38;5;28;01mdef\u001b[39;00m \u001b[38;5;21mintegrand_wrapper\u001b[39m(ell1, ell2, phi):\n\u001b[0;32m--> 174\u001b[0m     \u001b[38;5;28;01mreturn\u001b[39;00m \u001b[38;5;28;43mself\u001b[39;49m\u001b[38;5;241;43m.\u001b[39;49m\u001b[43mintegrand_third_order\u001b[49m\u001b[43m(\u001b[49m\u001b[43mell1\u001b[49m\u001b[43m,\u001b[49m\u001b[43m \u001b[49m\u001b[43mell2\u001b[49m\u001b[43m,\u001b[49m\u001b[43m \u001b[49m\u001b[43mphi\u001b[49m\u001b[43m,\u001b[49m\u001b[43m \u001b[49m\u001b[43mtheta1\u001b[49m\u001b[43m,\u001b[49m\u001b[43m \u001b[49m\u001b[43mtheta2\u001b[49m\u001b[43m,\u001b[49m\u001b[43m \u001b[49m\u001b[43mtheta3\u001b[49m\u001b[43m)\u001b[49m\n",
      "File \u001b[0;32m~/miniconda3/envs/g3l/lib/python3.12/site-packages/g3lhalo/apertureStatistics.py:164\u001b[0m, in \u001b[0;36mapertureStatistics.integrand_third_order\u001b[0;34m(self, ell1, ell2, phi, theta1, theta2, theta3)\u001b[0m\n\u001b[1;32m    163\u001b[0m \u001b[38;5;28;01mdef\u001b[39;00m \u001b[38;5;21mintegrand_third_order\u001b[39m(\u001b[38;5;28mself\u001b[39m, ell1, ell2, phi, theta1, theta2, theta3):\n\u001b[0;32m--> 164\u001b[0m     \u001b[38;5;28;01mreturn\u001b[39;00m \u001b[43mintegrand_third_order_helper\u001b[49m\u001b[43m(\u001b[49m\u001b[43mell1\u001b[49m\u001b[43m,\u001b[49m\u001b[43m \u001b[49m\u001b[43mell2\u001b[49m\u001b[43m,\u001b[49m\u001b[43m \u001b[49m\u001b[43mphi\u001b[49m\u001b[43m,\u001b[49m\u001b[43m \u001b[49m\u001b[43mtheta1\u001b[49m\u001b[43m,\u001b[49m\u001b[43m \u001b[49m\u001b[43mtheta2\u001b[49m\u001b[43m,\u001b[49m\u001b[43m \u001b[49m\u001b[43mtheta3\u001b[49m\u001b[43m,\u001b[49m\u001b[43m \u001b[49m\u001b[38;5;28;43mself\u001b[39;49m\u001b[38;5;241;43m.\u001b[39;49m\u001b[43mbispec\u001b[49m\u001b[43m,\u001b[49m\n\u001b[1;32m    165\u001b[0m \u001b[43m                                        \u001b[49m\u001b[38;5;28;43mself\u001b[39;49m\u001b[38;5;241;43m.\u001b[39;49m\u001b[43mell1_values\u001b[49m\u001b[43m,\u001b[49m\u001b[43m \u001b[49m\u001b[38;5;28;43mself\u001b[39;49m\u001b[38;5;241;43m.\u001b[39;49m\u001b[43mell2_values\u001b[49m\u001b[43m,\u001b[49m\u001b[43m \u001b[49m\u001b[38;5;28;43mself\u001b[39;49m\u001b[38;5;241;43m.\u001b[39;49m\u001b[43mphi_values\u001b[49m\u001b[43m)\u001b[49m\n",
      "File \u001b[0;32m~/miniconda3/envs/g3l/lib/python3.12/site-packages/g3lhalo/apertureStatistics.py:137\u001b[0m, in \u001b[0;36mintegrand_third_order_helper\u001b[0;34m(ell1, ell2, phi, theta1, theta2, theta3, bispec, ell1_values, ell2_values, phi_values)\u001b[0m\n\u001b[1;32m    134\u001b[0m ell3 \u001b[38;5;241m=\u001b[39m np\u001b[38;5;241m.\u001b[39msqrt(ell1\u001b[38;5;241m*\u001b[39m\u001b[38;5;241m*\u001b[39m\u001b[38;5;241m2\u001b[39m \u001b[38;5;241m+\u001b[39m ell2\u001b[38;5;241m*\u001b[39m\u001b[38;5;241m*\u001b[39m\u001b[38;5;241m2\u001b[39m \u001b[38;5;241m+\u001b[39m \u001b[38;5;241m2\u001b[39m \u001b[38;5;241m*\u001b[39m ell1 \u001b[38;5;241m*\u001b[39m ell2 \u001b[38;5;241m*\u001b[39m np\u001b[38;5;241m.\u001b[39mcos(phi))\n\u001b[1;32m    136\u001b[0m \u001b[38;5;66;03m# Interpolate bkappa\u001b[39;00m\n\u001b[0;32m--> 137\u001b[0m bk\u001b[38;5;241m=\u001b[39m\u001b[43mcustom_interpolate\u001b[49m\u001b[43m(\u001b[49m\u001b[43mell1_values\u001b[49m\u001b[43m,\u001b[49m\u001b[43m \u001b[49m\u001b[43mell2_values\u001b[49m\u001b[43m,\u001b[49m\u001b[43m \u001b[49m\u001b[43mphi_values\u001b[49m\u001b[43m,\u001b[49m\u001b[43m \u001b[49m\u001b[43mbispec\u001b[49m\u001b[43m,\u001b[49m\u001b[43m \u001b[49m\u001b[43mell1\u001b[49m\u001b[43m,\u001b[49m\u001b[43m \u001b[49m\u001b[43mell2\u001b[49m\u001b[43m,\u001b[49m\u001b[43m \u001b[49m\u001b[43mphi\u001b[49m\u001b[43m)\u001b[49m\n\u001b[1;32m    139\u001b[0m \u001b[38;5;28;01mreturn\u001b[39;00m ell1 \u001b[38;5;241m*\u001b[39m ell2 \u001b[38;5;241m*\u001b[39m bk \u001b[38;5;241m*\u001b[39m uHat(ell1 \u001b[38;5;241m*\u001b[39m theta1) \u001b[38;5;241m*\u001b[39m uHat(ell2 \u001b[38;5;241m*\u001b[39m theta2) \u001b[38;5;241m*\u001b[39m uHat(ell3 \u001b[38;5;241m*\u001b[39m theta3)\n",
      "File \u001b[0;32m~/miniconda3/envs/g3l/lib/python3.12/site-packages/g3lhalo/apertureStatistics.py:74\u001b[0m, in \u001b[0;36mcustom_interpolate\u001b[0;34m(ell1_values, ell2_values, phi_values, bkappa_grid, ell1, ell2, phi)\u001b[0m\n\u001b[1;32m     71\u001b[0m z1, z2 \u001b[38;5;241m=\u001b[39m phi_values[k], phi_values[k\u001b[38;5;241m+\u001b[39m\u001b[38;5;241m1\u001b[39m]\n\u001b[1;32m     73\u001b[0m \u001b[38;5;66;03m# Trilinear interpolation\u001b[39;00m\n\u001b[0;32m---> 74\u001b[0m f111 \u001b[38;5;241m=\u001b[39m \u001b[43mbkappa_grid\u001b[49m\u001b[43m[\u001b[49m\u001b[43mi\u001b[49m\u001b[43m,\u001b[49m\u001b[43m \u001b[49m\u001b[43mj\u001b[49m\u001b[43m,\u001b[49m\u001b[43m \u001b[49m\u001b[43mk\u001b[49m\u001b[43m]\u001b[49m\n\u001b[1;32m     75\u001b[0m f112 \u001b[38;5;241m=\u001b[39m bkappa_grid[i, j, k\u001b[38;5;241m+\u001b[39m\u001b[38;5;241m1\u001b[39m]\n\u001b[1;32m     76\u001b[0m f121 \u001b[38;5;241m=\u001b[39m bkappa_grid[i, j\u001b[38;5;241m+\u001b[39m\u001b[38;5;241m1\u001b[39m, k]\n",
      "\u001b[0;31mTypeError\u001b[0m: list indices must be integers or slices, not tuple"
     ]
    }
   ],
   "source": [
    "# Aperture statistics: MapNapNap\n",
    "\n",
    "MapNapNap_calculator = g3lhalo.apertureStatistics(bispec=B_kgg_dict)\n",
    "MapNapNap=[]\n",
    "\n",
    "for th in thetas:\n",
    "    th_rad=np.deg2rad(th/60)\n",
    "    MapNapNap.append(MapNapNap_calculator.third_order(th_rad, th_rad, th_rad))\n"
   ]
  },
  {
   "cell_type": "code",
   "execution_count": null,
   "metadata": {},
   "outputs": [],
   "source": [
    "# matter-matter-galaxy\n",
    "\n",
    "Bs_kkg=np.zeros((len(ells1), len(ells2), len(phis)))\n",
    "for i, ell1 in enumerate(ells1):\n",
    "    for j, ell2 in enumerate(ells2):\n",
    "        for k, phi in enumerate(phis):\n",
    "\n",
    "            ell3=np.sqrt(ell1**2+ell2**2+2*np.cos(phi)*ell1*ell2)\n",
    "\n",
    "            B1h, B2h, B3h, B=projection.C_kkg(ell1, ell2, ell3, 1, 1)\n",
    "            Bs_kkg[i, j, k]=B\n",
    "\n",
    "B_kkg_dict={\n",
    "    'ell1': ells1,\n",
    "    'ell2': ells2,\n",
    "    'phi': phis, \n",
    "    'bs': Bs_kgg\n",
    "}"
   ]
  },
  {
   "cell_type": "code",
   "execution_count": null,
   "metadata": {},
   "outputs": [],
   "source": [
    "# Aperture statistics: MapMapNap\n",
    "\n",
    "MapMapNap_calculator = g3lhalo.apertureStatistics(bispec=B_kkg_dict)\n",
    "MapMapNap=[]\n",
    "\n",
    "for th in thetas:\n",
    "    th_rad=np.deg2rad(th/60)\n",
    "    MapMapNap.append(MapMapNap_calculator.third_order(th_rad, th_rad, th_rad))\n"
   ]
  },
  {
   "cell_type": "code",
   "execution_count": null,
   "metadata": {},
   "outputs": [],
   "source": [
    "plt.loglog(thetas, MapMapNap, label='MMN')\n",
    "plt.loglog(thetas, MapNapNap, label='MNN')\n",
    "\n",
    "\n"
   ]
  }
 ],
 "metadata": {
  "kernelspec": {
   "display_name": "g3l",
   "language": "python",
   "name": "python3"
  },
  "language_info": {
   "codemirror_mode": {
    "name": "ipython",
    "version": 3
   },
   "file_extension": ".py",
   "mimetype": "text/x-python",
   "name": "python",
   "nbconvert_exporter": "python",
   "pygments_lexer": "ipython3",
   "version": "3.12.1"
  }
 },
 "nbformat": 4,
 "nbformat_minor": 2
}
